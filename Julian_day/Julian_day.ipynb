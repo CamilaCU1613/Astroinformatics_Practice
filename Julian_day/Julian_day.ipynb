{
 "cells": [
  {
   "cell_type": "code",
   "execution_count": 2,
   "id": "7d66b821-301c-4e91-afda-83685c751169",
   "metadata": {},
   "outputs": [
    {
     "name": "stdin",
     "output_type": "stream",
     "text": [
      "Enter year (e.g., 2008):  2008\n",
      "Enter month (1=Jan-12=Dec):  6\n",
      "Enter day of the month:  7\n"
     ]
    },
    {
     "name": "stdout",
     "output_type": "stream",
     "text": [
      "The Julian day is: 2454624\n"
     ]
    }
   ],
   "source": [
    "def calculate_julian_day(year:int, month:int, day:int):\n",
    "    # Adjustment for January and February\n",
    "    if month == 1 or month == 2:\n",
    "        month += 12  # January → 13, February → 14\n",
    "        year -= 1\n",
    "\n",
    "    julian = (36525 * year) // 100 + (306001 * (month + 1)) // 10000 + day + 1720981\n",
    "    return julian\n",
    "\n",
    "try:\n",
    "    # Ask the user for year, month, and day as integers\n",
    "    year = int(input(\"Enter year (e.g., 2008): \"))\n",
    "    month = int(input(\"Enter month (1=Jan-12=Dec): \"))\n",
    "    day = int(input(\"Enter day of the month: \"))\n",
    "\n",
    "    julian_day = calculate_julian_day(year, month, day)\n",
    "    print(f\"The Julian day is: {julian_day}\")\n",
    "\n",
    "except ValueError:\n",
    "    print(\"Invalid input. Please enter integer values for year, month, and day.\")"
   ]
  }
 ],
 "metadata": {
  "kernelspec": {
   "display_name": "Python [conda env:base] *",
   "language": "python",
   "name": "conda-base-py"
  },
  "language_info": {
   "codemirror_mode": {
    "name": "ipython",
    "version": 3
   },
   "file_extension": ".py",
   "mimetype": "text/x-python",
   "name": "python",
   "nbconvert_exporter": "python",
   "pygments_lexer": "ipython3",
   "version": "3.12.7"
  }
 },
 "nbformat": 4,
 "nbformat_minor": 5
}
