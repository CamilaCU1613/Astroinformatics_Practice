{
 "cells": [
  {
   "cell_type": "code",
   "execution_count": 5,
   "id": "e31a249a-3d4d-4d08-82e1-5911f83bbb2d",
   "metadata": {},
   "outputs": [
    {
     "name": "stdin",
     "output_type": "stream",
     "text": [
      "Enter the star's temperature in Kelvin:  4356\n"
     ]
    },
    {
     "name": "stdout",
     "output_type": "stream",
     "text": [
      "The spectral class is K.\n"
     ]
    }
   ],
   "source": [
    "def get_spectral_class(temp):\n",
    "    if 30000 <= temp <= 60000:\n",
    "        return \"O\"\n",
    "    elif 10000 <= temp < 30000:\n",
    "        return \"B\"\n",
    "    elif 7500 <= temp < 10000:\n",
    "        return \"A\"\n",
    "    elif 6000 <= temp < 7500:\n",
    "        return \"F\"\n",
    "    elif 5000 <= temp < 6000:\n",
    "        return \"G\"\n",
    "    elif 3500 <= temp < 5000:\n",
    "        return \"K\"\n",
    "    elif 2000 <= temp < 3500:\n",
    "        return \"M\"\n",
    "    else:\n",
    "        return None\n",
    "\n",
    "try:\n",
    "    temp = int(input(\"Enter the star's temperature in Kelvin: \"))\n",
    "    spectral_class = get_spectral_class(temp)\n",
    "    \n",
    "    if spectral_class:\n",
    "        print(f\"The spectral class is {spectral_class}.\")\n",
    "    else:\n",
    "        print(\"Temperature out of known spectral class range.\")\n",
    "except ValueError:\n",
    "    print(\"Invalid input. Please enter a numeric temperature.\")\n"
   ]
  }
 ],
 "metadata": {
  "kernelspec": {
   "display_name": "Python [conda env:base] *",
   "language": "python",
   "name": "conda-base-py"
  },
  "language_info": {
   "codemirror_mode": {
    "name": "ipython",
    "version": 3
   },
   "file_extension": ".py",
   "mimetype": "text/x-python",
   "name": "python",
   "nbconvert_exporter": "python",
   "pygments_lexer": "ipython3",
   "version": "3.12.7"
  }
 },
 "nbformat": 4,
 "nbformat_minor": 5
}
